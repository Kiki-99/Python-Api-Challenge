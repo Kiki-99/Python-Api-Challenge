{
 "cells": [
  {
   "cell_type": "code",
   "execution_count": 3,
   "metadata": {},
   "outputs": [],
   "source": [
    "# Dependencies and Setup\n",
    "import matplotlib.pyplot as plt\n",
    "import pandas as pd\n",
    "import numpy as np\n",
    "import requests\n",
    "import gmaps\n",
    "import os\n",
    "\n",
    "# Import API key\n",
    "from api_keys import g_key\n",
    "\n",
    "# Access maps with unique API key\n",
    "gmaps.configure(api_key=g_key)"
   ]
  },
  {
   "cell_type": "code",
   "execution_count": 5,
   "metadata": {},
   "outputs": [
    {
     "data": {
      "text/html": [
       "<div>\n",
       "<style scoped>\n",
       "    .dataframe tbody tr th:only-of-type {\n",
       "        vertical-align: middle;\n",
       "    }\n",
       "\n",
       "    .dataframe tbody tr th {\n",
       "        vertical-align: top;\n",
       "    }\n",
       "\n",
       "    .dataframe thead th {\n",
       "        text-align: right;\n",
       "    }\n",
       "</style>\n",
       "<table border=\"1\" class=\"dataframe\">\n",
       "  <thead>\n",
       "    <tr style=\"text-align: right;\">\n",
       "      <th></th>\n",
       "      <th>Unnamed: 0</th>\n",
       "      <th>City</th>\n",
       "      <th>Max Temp</th>\n",
       "      <th>Lat</th>\n",
       "      <th>Lng</th>\n",
       "      <th>Humidity</th>\n",
       "      <th>Cloudiness</th>\n",
       "      <th>Wind Speed</th>\n",
       "      <th>Country</th>\n",
       "      <th>Date</th>\n",
       "    </tr>\n",
       "  </thead>\n",
       "  <tbody>\n",
       "    <tr>\n",
       "      <th>0</th>\n",
       "      <td>0</td>\n",
       "      <td>Tiznit Province</td>\n",
       "      <td>289.98</td>\n",
       "      <td>29.58</td>\n",
       "      <td>-9.50</td>\n",
       "      <td>77</td>\n",
       "      <td>100</td>\n",
       "      <td>1.50</td>\n",
       "      <td>MA</td>\n",
       "      <td>1603401107</td>\n",
       "    </tr>\n",
       "    <tr>\n",
       "      <th>1</th>\n",
       "      <td>1</td>\n",
       "      <td>Cabo San Lucas</td>\n",
       "      <td>307.15</td>\n",
       "      <td>22.89</td>\n",
       "      <td>-109.91</td>\n",
       "      <td>59</td>\n",
       "      <td>5</td>\n",
       "      <td>5.10</td>\n",
       "      <td>MX</td>\n",
       "      <td>1603401063</td>\n",
       "    </tr>\n",
       "    <tr>\n",
       "      <th>2</th>\n",
       "      <td>2</td>\n",
       "      <td>Antofagasta</td>\n",
       "      <td>288.15</td>\n",
       "      <td>-23.65</td>\n",
       "      <td>-70.40</td>\n",
       "      <td>82</td>\n",
       "      <td>75</td>\n",
       "      <td>6.70</td>\n",
       "      <td>CL</td>\n",
       "      <td>1603401095</td>\n",
       "    </tr>\n",
       "    <tr>\n",
       "      <th>3</th>\n",
       "      <td>3</td>\n",
       "      <td>Tagāb</td>\n",
       "      <td>281.15</td>\n",
       "      <td>34.85</td>\n",
       "      <td>69.65</td>\n",
       "      <td>33</td>\n",
       "      <td>1</td>\n",
       "      <td>2.60</td>\n",
       "      <td>AF</td>\n",
       "      <td>1603401107</td>\n",
       "    </tr>\n",
       "    <tr>\n",
       "      <th>4</th>\n",
       "      <td>4</td>\n",
       "      <td>Mataura</td>\n",
       "      <td>288.71</td>\n",
       "      <td>-46.19</td>\n",
       "      <td>168.86</td>\n",
       "      <td>61</td>\n",
       "      <td>92</td>\n",
       "      <td>3.13</td>\n",
       "      <td>NZ</td>\n",
       "      <td>1603401107</td>\n",
       "    </tr>\n",
       "  </tbody>\n",
       "</table>\n",
       "</div>"
      ],
      "text/plain": [
       "   Unnamed: 0             City  Max Temp    Lat     Lng  Humidity  Cloudiness  \\\n",
       "0           0  Tiznit Province    289.98  29.58   -9.50        77         100   \n",
       "1           1   Cabo San Lucas    307.15  22.89 -109.91        59           5   \n",
       "2           2      Antofagasta    288.15 -23.65  -70.40        82          75   \n",
       "3           3            Tagāb    281.15  34.85   69.65        33           1   \n",
       "4           4          Mataura    288.71 -46.19  168.86        61          92   \n",
       "\n",
       "   Wind Speed Country        Date  \n",
       "0        1.50      MA  1603401107  \n",
       "1        5.10      MX  1603401063  \n",
       "2        6.70      CL  1603401095  \n",
       "3        2.60      AF  1603401107  \n",
       "4        3.13      NZ  1603401107  "
      ]
     },
     "execution_count": 5,
     "metadata": {},
     "output_type": "execute_result"
    }
   ],
   "source": [
    "#Import csv file from Part I of HW & Convert to Dataframe\n",
    "weather_data_df = pd.read_csv(\"Weather Data\")\n",
    "weather_data_df.head()"
   ]
  },
  {
   "cell_type": "code",
   "execution_count": 6,
   "metadata": {},
   "outputs": [],
   "source": [
    "# Store latitude and longitude in locations\n",
    "locations = weather_data_df[[\"Lat\", \"Lng\"]] \n",
    "\n",
    "# Fill NaN values and convert to float\n",
    "rating = weather_data_df[\"Humidity\"].astype(float)"
   ]
  },
  {
   "cell_type": "code",
   "execution_count": 7,
   "metadata": {},
   "outputs": [
    {
     "data": {
      "application/vnd.jupyter.widget-view+json": {
       "model_id": "e3cff8a1866e41389a6e9e6bddf7a955",
       "version_major": 2,
       "version_minor": 0
      },
      "text/plain": [
       "Figure(layout=FigureLayout(height='420px'))"
      ]
     },
     "metadata": {},
     "output_type": "display_data"
    }
   ],
   "source": [
    "# Plot Heatmap\n",
    "fig = gmaps.figure()\n",
    "\n",
    "# Create heat layer\n",
    "heat_layer = gmaps.heatmap_layer(locations, weights=rating, \n",
    "                                 dissipating=False, max_intensity=10,\n",
    "                                 point_radius=1)\n",
    "\n",
    "\n",
    "# Add layer\n",
    "fig.add_layer(heat_layer)\n",
    "\n",
    "# Display figure\n",
    "fig"
   ]
  },
  {
   "cell_type": "code",
   "execution_count": null,
   "metadata": {},
   "outputs": [],
   "source": []
  }
 ],
 "metadata": {
  "kernelspec": {
   "display_name": "Python 3",
   "language": "python",
   "name": "python3"
  },
  "language_info": {
   "codemirror_mode": {
    "name": "ipython",
    "version": 3
   },
   "file_extension": ".py",
   "mimetype": "text/x-python",
   "name": "python",
   "nbconvert_exporter": "python",
   "pygments_lexer": "ipython3",
   "version": "3.6.10"
  }
 },
 "nbformat": 4,
 "nbformat_minor": 4
}
